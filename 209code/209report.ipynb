{
 "cells": [
  {
   "cell_type": "markdown",
   "metadata": {},
   "source": [
    "# To run this \n",
    "### Go to Cell > Run All\n",
    "### When prompted, type the inputs followed by Enter\n",
    "### The resulting table is at the end of the code\n"
   ]
  },
  {
   "cell_type": "code",
   "execution_count": 1,
   "metadata": {},
   "outputs": [],
   "source": [
    "from getpass import getpass\n",
    "import util"
   ]
  },
  {
   "cell_type": "code",
   "execution_count": 2,
   "metadata": {},
   "outputs": [
    {
     "name": "stdout",
     "output_type": "stream",
     "text": [
      "IRWIN Username:\n",
      "irwinreadonly\n",
      "IRWIN Password:\n",
      "········\n"
     ]
    }
   ],
   "source": [
    "username = input(\"IRWIN Username:\\n\")\n",
    "print(\"IRWIN Password:\")\n",
    "password = getpass()"
   ]
  },
  {
   "cell_type": "code",
   "execution_count": 6,
   "metadata": {},
   "outputs": [
    {
     "name": "stdout",
     "output_type": "stream",
     "text": [
      "IrwinID:\n",
      "39F9112A-0232-4D3A-802A-EECA2D0579E7\n",
      "Report To Time (m/d/yyyy hh:mm:ss):\n",
      "9/2/2020 17:13:32\n"
     ]
    }
   ],
   "source": [
    "irwinid = input(\"IrwinID:\\n\") #'39F9112A-0232-4D3A-802A-EECA2D0579E7'\n",
    "reportToDateTime = input('Report To Time (m/d/yyyy hh:mm:ss):\\n') #'8/2/2020 17:13:32'"
   ]
  },
  {
   "cell_type": "code",
   "execution_count": 7,
   "metadata": {},
   "outputs": [],
   "source": [
    "table = util.create_table(username, password, irwinid, reportToDateTime)"
   ]
  },
  {
   "cell_type": "code",
   "execution_count": 8,
   "metadata": {},
   "outputs": [
    {
     "name": "stdout",
     "output_type": "stream",
     "text": [
      "| Resource Kind   | DemobETA                | DemobETD                | Operational Status   | Fulfillment Status   |\n",
      "|-----------------+-------------------------+-------------------------+----------------------+----------------------|\n",
      "| Overhead        | 2020-08-21 02:30:00.000 | 2020-08-21 02:00:00.000 |                      | Closed               |\n",
      "| Overhead        | 2020-08-31 14:00:00.000 | 2020-08-31 13:00:00.000 |                      | Closed               |\n",
      "| Overhead        | 2020-08-11 21:21:00.000 | 2020-08-10 13:21:00.000 |                      | Closed               |\n",
      "| Overhead        | 2020-08-11 21:21:00.000 | 2020-08-10 13:21:00.000 |                      | Closed               |\n",
      "| Equipment       | 2020-08-02 04:00:00.000 | 2020-08-02 03:55:00.000 |                      | Closed               |\n",
      "| Overhead        | 2020-08-11 21:17:00.000 | 2020-08-10 13:17:00.000 |                      | Closed               |\n",
      "| Overhead        | 2020-08-16 22:05:00.000 | 2020-08-14 18:05:00.000 |                      | Closed               |\n",
      "| Overhead        | 2020-08-11 21:00:00.000 | 2020-08-10 13:00:00.000 |                      | Closed               |\n",
      "| Overhead        | 2020-08-30 01:05:00.000 | 2020-08-30 01:00:00.000 |                      | Closed               |\n",
      "| Overhead        | 2020-08-11 21:18:00.000 | 2020-08-10 13:18:00.000 |                      | Closed               |\n",
      "| Overhead        | 2020-08-11 23:00:00.000 | 2020-08-09 13:00:00.000 |                      | Closed               |\n",
      "| Overhead        | 2020-08-11 23:00:00.000 | 2020-08-09 13:00:00.000 |                      | Closed               |\n",
      "| Overhead        | 2020-08-29 16:35:00.000 | 2020-08-29 16:27:00.000 |                      | Closed               |\n",
      "| Overhead        | 2020-08-27 01:00:00.000 | 2020-08-26 21:00:00.000 |                      | Closed               |\n",
      "| Overhead        | 2020-08-11 21:13:00.000 | 2020-08-10 13:13:00.000 |                      | Closed               |\n",
      "| Equipment       | 2020-09-01 21:45:00.000 | 2020-09-01 21:40:00.000 |                      | Closed               |\n",
      "| Overhead        | 2020-08-11 21:12:00.000 | 2020-08-10 13:12:00.000 |                      | Closed               |\n",
      "| Overhead        | 2020-08-10 21:18:00.000 | 2020-08-10 13:18:00.000 |                      | Closed               |\n",
      "| Overhead        | 2020-08-11 21:19:00.000 | 2020-08-10 13:19:00.000 |                      | Closed               |\n",
      "| Overhead        | 2020-08-11 21:20:00.000 | 2020-08-10 13:20:00.000 |                      | Closed               |\n",
      "| Overhead        | 2020-08-11 21:16:00.000 | 2020-08-10 13:16:00.000 |                      | Closed               |\n",
      "| Equipment       | 2020-09-02 00:00:00.000 | 2020-08-29 19:00:00.000 |                      | Closed               |\n",
      "| Overhead        | 2020-08-21 00:30:00.000 | 2020-08-21 00:00:00.000 |                      | Closed               |\n",
      "| Overhead        | 2020-08-16 23:00:00.000 | 2020-08-14 18:00:00.000 |                      | Closed               |\n",
      "| Aircraft        | 2020-08-24 15:25:00.000 | 2020-08-24 15:10:00.000 |                      | Closed               |\n",
      "| Overhead        | 2020-08-24 14:30:00.000 | 2020-08-24 12:00:00.000 |                      | Closed               |\n",
      "| Overhead        | 2020-08-26 02:30:00.000 | 2020-08-26 02:00:00.000 |                      | Closed               |\n",
      "| Overhead        | 2020-08-01 15:20:00.000 | 2020-08-01 15:20:00.000 |                      | Closed               |\n"
     ]
    }
   ],
   "source": [
    "print(table)"
   ]
  },
  {
   "cell_type": "code",
   "execution_count": null,
   "metadata": {},
   "outputs": [],
   "source": []
  }
 ],
 "metadata": {
  "kernelspec": {
   "display_name": "Python 2",
   "language": "python",
   "name": "python2"
  },
  "language_info": {
   "codemirror_mode": {
    "name": "ipython",
    "version": 3
   },
   "file_extension": ".py",
   "mimetype": "text/x-python",
   "name": "python",
   "nbconvert_exporter": "python",
   "pygments_lexer": "ipython3",
   "version": "3.7.4"
  }
 },
 "nbformat": 4,
 "nbformat_minor": 2
}

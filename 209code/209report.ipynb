{
 "cells": [
  {
   "cell_type": "markdown",
   "metadata": {},
   "source": [
    "# To run this \n",
    "### Go to Cell > Run All\n",
    "### When prompted, type the inputs followed by Enter\n",
    "### The resulting table is at the end of the code\n"
   ]
  },
  {
   "cell_type": "code",
   "execution_count": 13,
   "metadata": {},
   "outputs": [],
   "source": [
    "from getpass import getpass\n",
    "import util"
   ]
  },
  {
   "cell_type": "code",
   "execution_count": 14,
   "metadata": {},
   "outputs": [
    {
     "name": "stdout",
     "output_type": "stream",
     "text": [
      "IRWIN Username:\n",
      "irwinreadonly\n",
      "IRWIN Password:\n",
      "········\n"
     ]
    }
   ],
   "source": [
    "username = input(\"IRWIN Username:\\n\")\n",
    "print(\"IRWIN Password:\")\n",
    "password = getpass()"
   ]
  },
  {
   "cell_type": "code",
   "execution_count": 15,
   "metadata": {},
   "outputs": [
    {
     "name": "stdout",
     "output_type": "stream",
     "text": [
      "IrwinID:\n",
      "39F9112A-0232-4D3A-802A-EECA2D0579E7\n",
      "Report To Time (m/d/yyyy hh:mm:ss):\n",
      "8/2/2020 17:13:32\n"
     ]
    }
   ],
   "source": [
    "irwinid = input(\"IrwinID:\\n\") #'39F9112A-0232-4D3A-802A-EECA2D0579E7'\n",
    "reportToDateTime = input('Report To Time (m/d/yyyy hh:mm:ss):\\n') #'8/2/2020 17:13:32'"
   ]
  },
  {
   "cell_type": "code",
   "execution_count": 16,
   "metadata": {},
   "outputs": [],
   "source": [
    "table = util.create_table(username, password, irwinid, reportToDateTime)"
   ]
  },
  {
   "cell_type": "code",
   "execution_count": 17,
   "metadata": {},
   "outputs": [
    {
     "name": "stdout",
     "output_type": "stream",
     "text": [
      "| Resource Kind   | DemobETA                | DemobETD                | Operational Status   | Fulfillment Status   |\n",
      "|-----------------+-------------------------+-------------------------+----------------------+----------------------|\n",
      "| Equipment       | 2020-08-02 04:00:00.000 | 2020-08-02 03:55:00.000 |                      | Closed               |\n",
      "| Overhead        | 2020-08-01 15:20:00.000 | 2020-08-01 15:20:00.000 |                      | Closed               |\n"
     ]
    }
   ],
   "source": [
    "print(table)"
   ]
  },
  {
   "cell_type": "code",
   "execution_count": null,
   "metadata": {},
   "outputs": [],
   "source": []
  }
 ],
 "metadata": {
  "kernelspec": {
   "display_name": "Python 2",
   "language": "python",
   "name": "python2"
  },
  "language_info": {
   "codemirror_mode": {
    "name": "ipython",
    "version": 3
   },
   "file_extension": ".py",
   "mimetype": "text/x-python",
   "name": "python",
   "nbconvert_exporter": "python",
   "pygments_lexer": "ipython3",
   "version": "3.7.4"
  }
 },
 "nbformat": 4,
 "nbformat_minor": 2
}

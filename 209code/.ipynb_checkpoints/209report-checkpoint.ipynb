{
 "cells": [
  {
   "cell_type": "code",
   "execution_count": 14,
   "metadata": {},
   "outputs": [],
   "source": [
    "import util\n",
    "import subprocess\n",
    "import sys\n",
    "from getpass import getpass\n",
    "from tabulate import tabulate"
   ]
  },
  {
   "cell_type": "code",
   "execution_count": 15,
   "metadata": {},
   "outputs": [
    {
     "name": "stdout",
     "output_type": "stream",
     "text": [
      "IRWIN Username:\n",
      "irwinreadonly\n",
      "IRWIN Password:\n",
      "········\n"
     ]
    }
   ],
   "source": [
    "username = input(\"IRWIN Username:\\n\")\n",
    "print(\"IRWIN Password:\")\n",
    "password = getpass()"
   ]
  },
  {
   "cell_type": "code",
   "execution_count": 16,
   "metadata": {},
   "outputs": [],
   "source": [
    "irwinid = '39F9112A-0232-4D3A-802A-EECA2D0579E7'\n",
    "reportToDateTime = '8/2/2020 17:13:32'"
   ]
  },
  {
   "cell_type": "code",
   "execution_count": 17,
   "metadata": {},
   "outputs": [],
   "source": [
    "token = util.get_token_inputs(username, password)"
   ]
  },
  {
   "cell_type": "code",
   "execution_count": 18,
   "metadata": {},
   "outputs": [
    {
     "name": "stdout",
     "output_type": "stream",
     "text": [
      "N78mKP4hFYRCLt5jckI--NtwbdMMEZqaFhtk0WwAJaA.\n"
     ]
    }
   ],
   "source": [
    "print(token)"
   ]
  },
  {
   "cell_type": "code",
   "execution_count": 19,
   "metadata": {},
   "outputs": [
    {
     "name": "stdout",
     "output_type": "stream",
     "text": [
      "<Response [200]>\n"
     ]
    }
   ],
   "source": [
    "# query the capability request table\n",
    "endpoint_url = 'https://irwin.doi.gov/arcgis/rest/services/Resource/FeatureServer/2/query?includeResource=True'\n",
    "\n",
    "where = \"IrwinID = '{}' AND (FulfillmentStatus = 'Closed' or FulfillmentStatus = 'Filled') AND \" \\\n",
    "        \"((DemobETD < '{}' OR DemobETD is null) AND DemobETA < '{}')\".format(irwinid,\n",
    "                                                                             reportToDateTime, reportToDateTime)\n",
    "\n",
    "\n",
    "matchingCRs = util.query_api(endpoint_url, token, where)"
   ]
  },
  {
   "cell_type": "code",
   "execution_count": 20,
   "metadata": {},
   "outputs": [],
   "source": [
    "# set up table format\n",
    "headers = ['Resource Kind', 'DemobETA', 'DemobETD', 'Operational Status', 'Fulfillment Status']\n",
    "tableRows = []"
   ]
  },
  {
   "cell_type": "code",
   "execution_count": 21,
   "metadata": {},
   "outputs": [
    {
     "ename": "TypeError",
     "evalue": "'module' object is not callable",
     "output_type": "error",
     "traceback": [
      "\u001b[0;31m---------------------------------------------------------------------------\u001b[0m",
      "\u001b[0;31mTypeError\u001b[0m                                 Traceback (most recent call last)",
      "\u001b[0;32m<ipython-input-21-66670884f3f9>\u001b[0m in \u001b[0;36m<module>\u001b[0;34m\u001b[0m\n\u001b[1;32m     19\u001b[0m     \u001b[0mtableRows\u001b[0m\u001b[0;34m.\u001b[0m\u001b[0mappend\u001b[0m\u001b[0;34m(\u001b[0m\u001b[0mrequestList\u001b[0m\u001b[0;34m)\u001b[0m\u001b[0;34m\u001b[0m\u001b[0;34m\u001b[0m\u001b[0m\n\u001b[1;32m     20\u001b[0m \u001b[0;34m\u001b[0m\u001b[0m\n\u001b[0;32m---> 21\u001b[0;31m \u001b[0mprint\u001b[0m\u001b[0;34m(\u001b[0m\u001b[0mtabulate\u001b[0m\u001b[0;34m(\u001b[0m\u001b[0mtableRows\u001b[0m\u001b[0;34m,\u001b[0m \u001b[0mheaders\u001b[0m\u001b[0;34m=\u001b[0m\u001b[0mheaders\u001b[0m\u001b[0;34m,\u001b[0m \u001b[0mtablefmt\u001b[0m\u001b[0;34m=\u001b[0m\u001b[0;34m'orgtbl'\u001b[0m\u001b[0;34m)\u001b[0m\u001b[0;34m)\u001b[0m\u001b[0;34m\u001b[0m\u001b[0;34m\u001b[0m\u001b[0m\n\u001b[0m",
      "\u001b[0;31mTypeError\u001b[0m: 'module' object is not callable"
     ]
    }
   ],
   "source": [
    "for cr in matchingCRs['features']:\n",
    "\n",
    "    requestList = []\n",
    "\n",
    "    capabilityRequest = cr['attributes']\n",
    "    irwinID = capabilityRequest['IrwinID']\n",
    "    resource = cr['capability']['resource']['attributes']\n",
    "    demobETA = capabilityRequest['DemobETA']\n",
    "    demobETD = capabilityRequest['DemobETD']\n",
    "    fulfillmentStatus = capabilityRequest['FulfillmentStatus']\n",
    "    operationalName = resource['OperationalName']\n",
    "    operationalStatus = resource['OperationalStatus']\n",
    "    resourceKind = resource['ResourceKind']\n",
    "    capability = cr['capability']['attributes']\n",
    "    iriwnCTID = capability['IrwinCTID']\n",
    "\n",
    "    requestList.extend([resourceKind, demobETA, demobETD, operationalStatus, fulfillmentStatus])\n",
    "\n",
    "    tableRows.append(requestList)\n",
    "\n",
    "print(tabulate(tableRows, headers=headers, tablefmt='orgtbl'))"
   ]
  },
  {
   "cell_type": "code",
   "execution_count": null,
   "metadata": {},
   "outputs": [],
   "source": []
  }
 ],
 "metadata": {
  "kernelspec": {
   "display_name": "Python 2",
   "language": "python",
   "name": "python2"
  },
  "language_info": {
   "codemirror_mode": {
    "name": "ipython",
    "version": 3
   },
   "file_extension": ".py",
   "mimetype": "text/x-python",
   "name": "python",
   "nbconvert_exporter": "python",
   "pygments_lexer": "ipython3",
   "version": "3.7.4"
  }
 },
 "nbformat": 4,
 "nbformat_minor": 2
}
